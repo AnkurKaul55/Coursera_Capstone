{
 "cells": [
  {
   "cell_type": "markdown",
   "id": "537db8c8",
   "metadata": {},
   "source": [
    "# This Notebook contains the code of \n",
    "\n",
    "## Importing the libraries\n",
    "\n",
    "   ### 1. Pandas\n",
    "   ### 2. Numpy\n",
    "\n",
    "## Printing the statement \n",
    "   ### \"Hello Capstone Project Coursera!\""
   ]
  },
  {
   "cell_type": "markdown",
   "id": "c505e527",
   "metadata": {},
   "source": [
    "# Importing the Libraries"
   ]
  },
  {
   "cell_type": "code",
   "execution_count": 1,
   "id": "f2b5a3e8",
   "metadata": {},
   "outputs": [],
   "source": [
    "import pandas as pd\n",
    "import numpy as np"
   ]
  },
  {
   "cell_type": "markdown",
   "id": "b22abd24",
   "metadata": {},
   "source": [
    "# Printing the Statement"
   ]
  },
  {
   "cell_type": "code",
   "execution_count": 2,
   "id": "e7755ee6",
   "metadata": {},
   "outputs": [
    {
     "name": "stdout",
     "output_type": "stream",
     "text": [
      "Hello Capstone  Project Coursera!\n"
     ]
    }
   ],
   "source": [
    "print('Hello Capstone Project Coursera!')"
   ]
  }
 ],
 "metadata": {
  "kernelspec": {
   "display_name": "Python 3",
   "language": "python",
   "name": "python3"
  },
  "language_info": {
   "codemirror_mode": {
    "name": "ipython",
    "version": 3
   },
   "file_extension": ".py",
   "mimetype": "text/x-python",
   "name": "python",
   "nbconvert_exporter": "python",
   "pygments_lexer": "ipython3",
   "version": "3.8.8"
  }
 },
 "nbformat": 4,
 "nbformat_minor": 5
}
